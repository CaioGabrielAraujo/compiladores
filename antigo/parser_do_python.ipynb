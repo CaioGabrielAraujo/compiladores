{
 "cells": [
  {
   "cell_type": "markdown",
   "metadata": {},
   "source": [
    "# Parser do Python\n",
    "\n",
    "O python fornece acesso a seu parser através do módulo `ast`. Podemos realizar o parsing completo de uma string de código com a função .parse do módulo."
   ]
  },
  {
   "cell_type": "code",
   "execution_count": 2,
   "metadata": {
    "collapsed": true
   },
   "outputs": [],
   "source": [
    "import ast\n",
    "\n",
    "tree = ast.parse('print(\"hello world!\")')"
   ]
  },
  {
   "cell_type": "markdown",
   "metadata": {},
   "source": [
    "Observem que a estrutura de dados resultante não é das mais amigáveis."
   ]
  },
  {
   "cell_type": "code",
   "execution_count": 11,
   "metadata": {},
   "outputs": [],
   "source": [
    "body = tree.body[0]\n",
    "call_node = body.value\n",
    "func_name = call_node.func.id\n",
    "msg = call_node.args[0].s"
   ]
  },
  {
   "cell_type": "markdown",
   "metadata": {},
   "source": [
    "Explore a estrutura com o autocomplete do python ou utilizando a função dir() em um objeto para revelar quais são os atributos e métodos disponíveis."
   ]
  },
  {
   "cell_type": "code",
   "execution_count": 20,
   "metadata": {},
   "outputs": [
    {
     "data": {
      "text/plain": [
       "['__class__',\n",
       " '__delattr__',\n",
       " '__dict__',\n",
       " '__dir__',\n",
       " '__doc__',\n",
       " '__eq__',\n",
       " '__format__',\n",
       " '__ge__',\n",
       " '__getattribute__',\n",
       " '__gt__',\n",
       " '__hash__',\n",
       " '__init__',\n",
       " '__init_subclass__',\n",
       " '__le__',\n",
       " '__lt__',\n",
       " '__module__',\n",
       " '__ne__',\n",
       " '__new__',\n",
       " '__reduce__',\n",
       " '__reduce_ex__',\n",
       " '__repr__',\n",
       " '__setattr__',\n",
       " '__sizeof__',\n",
       " '__str__',\n",
       " '__subclasshook__',\n",
       " '__weakref__',\n",
       " '_attributes',\n",
       " '_fields',\n",
       " 'args',\n",
       " 'col_offset',\n",
       " 'func',\n",
       " 'keywords',\n",
       " 'lineno']"
      ]
     },
     "execution_count": 20,
     "metadata": {},
     "output_type": "execute_result"
    }
   ],
   "source": [
    "dir(call_node)"
   ]
  },
  {
   "cell_type": "markdown",
   "metadata": {},
   "source": [
    "Utilizando a função `ast.walk`, podemos percorrer todos os nós da árvore sintática. Com isto, é possível realizar alguns \"macros\" de python que alteram a árvore sintática, normalmente para realizar transformações repetitivas no código."
   ]
  },
  {
   "cell_type": "code",
   "execution_count": 28,
   "metadata": {},
   "outputs": [
    {
     "name": "stdout",
     "output_type": "stream",
     "text": [
      "<_ast.Module object at 0x7ffa64f54dd8>\n",
      "<_ast.Expr object at 0x7ffa64f54e48>\n",
      "<_ast.Call object at 0x7ffa64f54e80>\n",
      "<_ast.Name object at 0x7ffa64f54eb8>\n",
      "<_ast.Str object at 0x7ffa64f54ef0>\n",
      "<_ast.Load object at 0x7ffa6fc06908>\n"
     ]
    }
   ],
   "source": [
    "for node in ast.walk(tree):\n",
    "    print(node)"
   ]
  },
  {
   "cell_type": "markdown",
   "metadata": {
    "hideCode": true
   },
   "source": [
    "Podemos aliar isto ao módulo `inspect` para inspecionar o código de objetos python. "
   ]
  },
  {
   "cell_type": "code",
   "execution_count": 31,
   "metadata": {},
   "outputs": [
    {
     "data": {
      "text/plain": [
       "\"Module(body=[FunctionDef(name='my_func', args=arguments(args=[arg(arg='x', annotation=None)], vararg=None, kwonlyargs=[], kw_defaults=[], kwarg=None, defaults=[]), body=[Return(value=BinOp(left=Name(id='x', ctx=Load()), op=Mult(), right=Name(id='x', ctx=Load())))], decorator_list=[], returns=None)])\""
      ]
     },
     "execution_count": 31,
     "metadata": {},
     "output_type": "execute_result"
    }
   ],
   "source": [
    "import inspect\n",
    "\n",
    "def my_func(x):\n",
    "    return x * x\n",
    "\n",
    "src = inspect.getsource(my_func)\n",
    "tree = ast.parse(src)\n",
    "ast.dump(tree)"
   ]
  },
  {
   "cell_type": "markdown",
   "metadata": {},
   "source": [
    "Uma vez que temos uma árvore sintática, é possível executá-la com as funções compile e exec."
   ]
  },
  {
   "cell_type": "code",
   "execution_count": 38,
   "metadata": {},
   "outputs": [
    {
     "ename": "NameError",
     "evalue": "name 'my_func' is not defined",
     "output_type": "error",
     "traceback": [
      "\u001b[0;31m---------------------------------------------------------------------------\u001b[0m",
      "\u001b[0;31mNameError\u001b[0m                                 Traceback (most recent call last)",
      "\u001b[0;32m<ipython-input-38-223e539b851c>\u001b[0m in \u001b[0;36m<module>\u001b[0;34m()\u001b[0m\n\u001b[1;32m      2\u001b[0m \u001b[0;32mdel\u001b[0m \u001b[0mmy_func\u001b[0m\u001b[0;34m\u001b[0m\u001b[0m\n\u001b[1;32m      3\u001b[0m \u001b[0;34m\u001b[0m\u001b[0m\n\u001b[0;32m----> 4\u001b[0;31m \u001b[0mmy_func\u001b[0m\u001b[0;34m(\u001b[0m\u001b[0;36m2\u001b[0m\u001b[0;34m)\u001b[0m\u001b[0;34m\u001b[0m\u001b[0m\n\u001b[0m",
      "\u001b[0;31mNameError\u001b[0m: name 'my_func' is not defined"
     ]
    }
   ],
   "source": [
    "# Apagamos a função my_func para testar o \"exec\"\n",
    "del my_func \n",
    "\n",
    "my_func(2)"
   ]
  },
  {
   "cell_type": "code",
   "execution_count": 40,
   "metadata": {},
   "outputs": [
    {
     "data": {
      "text/plain": [
       "4"
      ]
     },
     "execution_count": 40,
     "metadata": {},
     "output_type": "execute_result"
    }
   ],
   "source": [
    "exec(compile(tree, '<input>', 'exec'))\n",
    "\n",
    "my_func(2)"
   ]
  },
  {
   "cell_type": "markdown",
   "metadata": {},
   "source": [
    "## Desafio\n",
    "\n",
    "Crie uma função que leia um objeto python (definição de função ou de classe) e retorne\n",
    "a árvore sintática correspondente. Seu código deve realizar uma série de transformações:\n",
    "\n"
   ]
  },
  {
   "cell_type": "code",
   "execution_count": 42,
   "metadata": {
    "collapsed": true
   },
   "outputs": [],
   "source": [
    "def transform(func, names):\n",
    "    \"\"\"\n",
    "    Lê uma função e modifica todas as variáveis com nomes especiais\n",
    "    a partir do dicionário dado.\n",
    "    \n",
    "    Exemplo:\n",
    "    \n",
    "        def incr(x):\n",
    "            return x + __cte\n",
    "        \n",
    "    Se chamarmos a função transform(incr, {'cte': 42}), o resultado deve\n",
    "    ser uma função equivalente à definida abaixo.\n",
    "    \n",
    "        def incr(x):\n",
    "            return x + 42\n",
    "    \"\"\"\n",
    "    \n",
    "    ..."
   ]
  },
  {
   "cell_type": "markdown",
   "metadata": {},
   "source": [
    "Para completar o desafio você possivelmente precisará implementar uma série de funções auxiliares:\n",
    "\n",
    "func_to_tree: retorna a árvore sintática a partir de um objeto tipo função.\n",
    "cte_to_node: converte constante (int, float ou string) em um nó de uma árvore sintática.\n",
    "tree_to_func: retorna um objeto do tipo função a partir de sua definição como árvore sintática. "
   ]
  },
  {
   "cell_type": "code",
   "execution_count": null,
   "metadata": {
    "collapsed": true
   },
   "outputs": [],
   "source": []
  }
 ],
 "metadata": {
  "kernelspec": {
   "display_name": "Python 3",
   "language": "python",
   "name": "python3"
  },
  "language_info": {
   "codemirror_mode": {
    "name": "ipython",
    "version": 3
   },
   "file_extension": ".py",
   "mimetype": "text/x-python",
   "name": "python",
   "nbconvert_exporter": "python",
   "pygments_lexer": "ipython3",
   "version": "3.6.1"
  }
 },
 "nbformat": 4,
 "nbformat_minor": 2
}
