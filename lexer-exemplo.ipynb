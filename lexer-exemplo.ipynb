{
 "cells": [
  {
   "cell_type": "code",
   "execution_count": 27,
   "metadata": {
    "collapsed": true
   },
   "outputs": [],
   "source": [
    "import re\n",
    "from collections import namedtuple"
   ]
  },
  {
   "cell_type": "code",
   "execution_count": 98,
   "metadata": {},
   "outputs": [],
   "source": [
    "Token = namedtuple(\n",
    "    'Token', \n",
    "    ['type', 'data', 'lineno']\n",
    ")"
   ]
  },
  {
   "cell_type": "code",
   "execution_count": 101,
   "metadata": {},
   "outputs": [],
   "source": [
    "regex_map = [\n",
    "    ('NUMBER', r'[0-9]+(\\.[0-9]*)?'),\n",
    "    ('NAME', r'[a-zA-Z_][a-zA-Z_0-9]*'),\n",
    "    ('OP', r'\\+|\\-|\\*|\\/'),\n",
    "    ('LPAR', r'\\('),\n",
    "    ('RPAR', r'\\)'),\n",
    "    ('EQ', r'='),\n",
    "    ('NEWLINE', r'\\n'),\n",
    "    ('SPACE', r'\\s+'),\n",
    "    ('ANYTHING', r'.+'),\n",
    "]\n",
    "\n",
    "test1 = 'pi = 3.141516'\n",
    "test2 = '1 / n + (42 * x)'\n",
    "test3 = 'pi = 3,14'"
   ]
  },
  {
   "cell_type": "code",
   "execution_count": 102,
   "metadata": {},
   "outputs": [],
   "source": [
    "template = r'(?P<{name}>{regex})'\n",
    "REGEX_ALL = '|'.join(\n",
    "    template.format(name=name, regex=regex)\n",
    "    for (name, regex) in regex_map\n",
    ")\n",
    "re_all = re.compile(REGEX_ALL)"
   ]
  },
  {
   "cell_type": "code",
   "execution_count": 103,
   "metadata": {},
   "outputs": [
    {
     "data": {
      "text/plain": [
       "[Token(type='NAME', data='pi', lineno=1),\n",
       " Token(type='EQ', data='=', lineno=1),\n",
       " Token(type='NUMBER', data='3.141516', lineno=1),\n",
       " Token(type='NUMBER', data='1', lineno=2),\n",
       " Token(type='OP', data='/', lineno=2),\n",
       " Token(type='NAME', data='n', lineno=2),\n",
       " Token(type='OP', data='+', lineno=2),\n",
       " Token(type='LPAR', data='(', lineno=2),\n",
       " Token(type='NUMBER', data='42', lineno=2),\n",
       " Token(type='OP', data='*', lineno=2),\n",
       " Token(type='NAME', data='x', lineno=2),\n",
       " Token(type='RPAR', data=')', lineno=2),\n",
       " Token(type='NAME', data='pi', lineno=3),\n",
       " Token(type='EQ', data='=', lineno=3),\n",
       " Token(type='NUMBER', data='3', lineno=3),\n",
       " Token(type='ANYTHING', data=',14', lineno=3)]"
      ]
     },
     "execution_count": 103,
     "metadata": {},
     "output_type": "execute_result"
    }
   ],
   "source": [
    "source = '\\n'.join([test1, test2, test3])\n",
    "\n",
    "def lexer(source):\n",
    "    lineno = 1\n",
    "    for m in re_all.finditer(source):\n",
    "        type_ = m.lastgroup\n",
    "        if type_ == 'SPACE':\n",
    "            continue\n",
    "        elif type_ == 'NEWLINE':\n",
    "            lineno += 1\n",
    "            continue \n",
    "        i, j = m.span()\n",
    "        data = m.string[i:j]\n",
    "        \n",
    "        yield Token(type_, data, lineno)\n",
    "\n",
    "list(lexer(source))"
   ]
  },
  {
   "cell_type": "code",
   "execution_count": null,
   "metadata": {
    "collapsed": true
   },
   "outputs": [],
   "source": []
  }
 ],
 "metadata": {
  "kernelspec": {
   "display_name": "Python 3",
   "language": "python",
   "name": "python3"
  },
  "language_info": {
   "codemirror_mode": {
    "name": "ipython",
    "version": 3
   },
   "file_extension": ".py",
   "mimetype": "text/x-python",
   "name": "python",
   "nbconvert_exporter": "python",
   "pygments_lexer": "ipython3",
   "version": "3.6.1"
  }
 },
 "nbformat": 4,
 "nbformat_minor": 2
}
